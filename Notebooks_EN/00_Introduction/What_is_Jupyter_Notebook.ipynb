{
  "cells": [
    {
      "cell_type": "markdown",
      "metadata": {
        "id": "GUWIzmY_ijsw"
      },
      "source": [
        "# Introduction to Jupyter Notebook\n",
        "\n",
        "**Jupyter Notebook** is an interactive programming environment that allows you to create and share documents containing code, equations, visualizations, and text. It is a tool for creating reports, presentations, as well as learning programming.\n",
        "\n",
        "Larger portions of text in Jupyter Notebook are written in **Markdown**, which allows for formatting. Below, we'll see some examples of text formatting in [Markdown](https://www.markdownguide.org/cheat-sheet/) (more examples: [here](https://quarto.org/docs/authoring/markdown-basics.html) and [here](https://markdown-it.github.io/)). Mathematical formulas can be introduced using [LaTeX](https://tilburgsciencehub.com/topics/research-skills/templates-dynamic-content/templates/amsmath-latex-cheatsheet/).\n",
        "Remember, you can always ask AI for Markdown or LaTeX syntax!\n",
        "\n",
        "Mathematical calculations can be performed using **Python**. Python's syntax is clear and intuitive, allowing for quick script and program creation. In **Jupyter Notebook** (.ipynb), you can run Python code in code cells.\n",
        "\n",
        "**Colab** is a Google-hosted Jupyter Notebook service that requires no setup and provides free access to computing resources, including GPUs. Colab is particularly well-suited for machine learning, data science, and education.\n",
        "\n",
        "Using AI tools such as [ChatGPT](https://openai.com/chatgpt), [Gemini](https://www.google.com/search?q=gemini+AI), [Claude](https://www.anthropic.com/claude), can greatly facilitate learning math in academic courses. These language models offer quick answers, explanations of difficult concepts, and help with solving problems, enabling interactive learning at any time.\n",
        "\n",
        "## Introduction to Markdown\n",
        "\n",
        "* \"# First Level Heading\"\n",
        "* \"## Second Level Heading\"\n",
        "* \"### Third Level Heading\"\n",
        "\n",
        "This is **bold** text, and this is *italic*. You can also combine both styles like **_bold italic_**.\n",
        "\n",
        "You can insert lists:\n",
        "- Item 1\n",
        "- Item 2\n",
        "  - Sub-item 1\n",
        "  - Sub-item 2\n",
        "\n",
        "Or numbered lists:\n",
        "1. First step\n",
        "2. Second step\n",
        "3. Third step\n",
        "\n",
        "Insert a link: [Visit Google](https://www.google.com)\n",
        "\n",
        "Insert an image:  \n",
        "![Example Image](https://www.mediawiki.org/static/images/icons/mediawikiwiki.svg)\n",
        "\n",
        "Insert an inline code snippet: `print(\"Hello World!\")`\n",
        "\n",
        "Insert a code block:\n",
        "\n",
        "```python\n",
        "def function():\n",
        "    print(\"This is a block of Python code.\")\n",
        "```\n",
        "\n",
        "Mathematical equations in LaTeX:\n",
        "\n",
        "Inline equation: $e^{i\\pi} + 1 = 0$\n",
        "\n",
        "Displayed equation:\n",
        "\n",
        "$$e^{i\\pi} + 1 = 0$$\n",
        "\n",
        "## Introduction to Mathematics in Jupyter Notebooks\n",
        "\n",
        "### Numerical Mathematical Calculations\n",
        "\n",
        "#### Python Standard Math Library"
      ]
    },
    {
      "cell_type": "code",
      "execution_count": null,
      "metadata": {
        "id": "ah0vFdeLijs2"
      },
      "outputs": [],
      "source": [
        "# Python as a calculator\n",
        "2**10, 2**100"
      ]
    },
    {
      "cell_type": "code",
      "execution_count": null,
      "metadata": {
        "id": "1vynn2fxijs3"
      },
      "outputs": [],
      "source": [
        "# To calculate more complex expressions, you need additional modules (math, numpy, sympy)\n",
        "\n",
        "import math # math module\n",
        "\n",
        "# Return sine\n",
        "print(math.sin(math.pi))\n",
        "print(math.sin(math.pi/2))\n",
        "print(math.sqrt(2))"
      ]
    },
    {
      "cell_type": "code",
      "source": [
        "import math\n",
        "math.cos(math.pi/4)"
      ],
      "metadata": {
        "id": "BmdYonpnuxRa",
        "outputId": "67c9aef8-1ef1-4aea-ef11-90991794c0cd",
        "colab": {
          "base_uri": "https://localhost:8080/"
        }
      },
      "execution_count": 4,
      "outputs": [
        {
          "output_type": "execute_result",
          "data": {
            "text/plain": [
              "0.7071067811865476"
            ]
          },
          "metadata": {},
          "execution_count": 4
        }
      ]
    },
    {
      "cell_type": "code",
      "execution_count": null,
      "metadata": {
        "id": "OGXZLpcWijs3"
      },
      "outputs": [],
      "source": [
        "# Presenting results\n",
        "import math # math module\n",
        "print(f\"Square root of 2 is {math.sqrt(2)}\")\n",
        "print(f\"Sine of 30 degrees is {math.sin(math.radians(30))}\")"
      ]
    },
    {
      "cell_type": "markdown",
      "metadata": {
        "id": "3E2h2ufLijs4"
      },
      "source": [
        "#### Numerical Python (NumPy)\n",
        "\n",
        "For more demanding, efficient, and accurate calculations, we use the NumPy library"
      ]
    },
    {
      "cell_type": "code",
      "execution_count": null,
      "metadata": {
        "id": "5k9SeOmTijs4"
      },
      "outputs": [],
      "source": [
        "import numpy as np # Numerical Python module\n",
        "print(f\"Sine of 30 degrees is {np.sin(np.radians(30))}\")\n",
        "print(f\"Log base 10 of 2 is {np.log10(2)}\")\n",
        "print(f\"Norm of vector [1,1,1,1,1] is {np.linalg.norm([1, 1, 1, 1, 1])}\")"
      ]
    },
    {
      "cell_type": "code",
      "execution_count": null,
      "metadata": {
        "id": "xAlwgdc2ijs4"
      },
      "outputs": [],
      "source": [
        "# Determinant of a matrix\n",
        "A = np.array([[1, 2], [3, 4]])\n",
        "print(f\"Determinant of matrix A is {np.linalg.det(A)}\")"
      ]
    },
    {
      "cell_type": "code",
      "execution_count": null,
      "metadata": {
        "id": "QDvtakJQijs5"
      },
      "outputs": [],
      "source": [
        "# Solving systems of equations\n",
        "b = np.array([5, 7])\n",
        "x = np.linalg.solve(A, b)\n",
        "print(f\"Solution to system Ax=b is x={x}\")"
      ]
    },
    {
      "cell_type": "code",
      "execution_count": null,
      "metadata": {
        "id": "eRmtm4jRijs5"
      },
      "outputs": [],
      "source": [
        "# Unfortunately, numerical solutions are always approximations, not exact solutions.\n",
        "print(f\"{1/3:.30f}\")"
      ]
    },
    {
      "cell_type": "markdown",
      "metadata": {
        "id": "edvCyqLVijs5"
      },
      "source": [
        "#### Symbolic Mathematical Calculations\n",
        "\n",
        "SymPy is a Python library for symbolic calculations, allowing for manipulation of mathematical symbols such as variables, equations, functions, derivatives, integrals, limits, and matrices."
      ]
    },
    {
      "cell_type": "code",
      "execution_count": null,
      "metadata": {
        "id": "nGet2u8Jijs5"
      },
      "outputs": [],
      "source": [
        "# Python allows symbolic calculations\n",
        "import sympy as sp\n",
        "x, y, z = sp.symbols('x y z') # declare variables\n",
        "f, g = sp.symbols('f g', cls=sp.Function) # declare functions"
      ]
    },
    {
      "cell_type": "code",
      "execution_count": null,
      "metadata": {
        "id": "lqBn4dyeijs6"
      },
      "outputs": [],
      "source": [
        "# Sine of 30 degrees\n",
        "sp.sin(sp.rad(30)) # exact result 1/2"
      ]
    },
    {
      "cell_type": "code",
      "execution_count": null,
      "metadata": {
        "id": "NzaXqiVaijs6"
      },
      "outputs": [],
      "source": [
        "# Natural logarithm of e\n",
        "sp.log(sp.E)"
      ]
    },
    {
      "cell_type": "code",
      "execution_count": null,
      "metadata": {
        "id": "LDVaA3IMijs6"
      },
      "outputs": [],
      "source": [
        "# Norm of vector [1,1,1,1,1]\n",
        "v = sp.Matrix([1, 1, 1, 1, 1])\n",
        "v.norm()"
      ]
    },
    {
      "cell_type": "code",
      "execution_count": null,
      "metadata": {
        "id": "t1URyRW0ijs6"
      },
      "outputs": [],
      "source": [
        "f = f(x)"
      ]
    },
    {
      "cell_type": "code",
      "execution_count": null,
      "metadata": {
        "id": "gxYqnXhLijs7"
      },
      "outputs": [],
      "source": [
        "x + y # operations on variables"
      ]
    },
    {
      "cell_type": "code",
      "execution_count": null,
      "metadata": {
        "id": "EnmVYO-Gijs7"
      },
      "outputs": [],
      "source": [
        "eq1 = ((x - y)**2).expand() # expand expression\n",
        "eq1"
      ]
    },
    {
      "cell_type": "code",
      "execution_count": null,
      "metadata": {
        "id": "SfpZRrdVijs7"
      },
      "outputs": [],
      "source": [
        "eq2 = eq1.subs(x, 1) # substitute value\n",
        "eq2"
      ]
    },
    {
      "cell_type": "code",
      "execution_count": null,
      "metadata": {
        "id": "dXZuel-pijs7"
      },
      "outputs": [],
      "source": [
        "# solution of eq2\n",
        "sol = sp.solveset(eq2, y)\n",
        "sol"
      ]
    },
    {
      "cell_type": "code",
      "execution_count": null,
      "metadata": {
        "id": "VyuvhpLpijs8"
      },
      "outputs": [],
      "source": [
        "# differentiation\n",
        "f = sp.sin(x)\n",
        "sp.diff(f, x)"
      ]
    },
    {
      "cell_type": "code",
      "execution_count": null,
      "metadata": {
        "id": "k47kqbecijs8"
      },
      "outputs": [],
      "source": [
        "# more complex expressions\n",
        "f = sp.sin(x**sp.cos(x))\n",
        "f"
      ]
    },
    {
      "cell_type": "code",
      "execution_count": null,
      "metadata": {
        "id": "KJXiqLD6ijs8"
      },
      "outputs": [],
      "source": [
        "f.diff(x)"
      ]
    },
    {
      "cell_type": "code",
      "execution_count": null,
      "metadata": {
        "id": "lBEHJHAWijs8"
      },
      "outputs": [],
      "source": [
        "# integration\n",
        "f = sp.sin(x) * sp.cos(x) * x\n",
        "f.integrate(x)"
      ]
    },
    {
      "cell_type": "code",
      "execution_count": null,
      "metadata": {
        "id": "9QIj7LT5ijs8"
      },
      "outputs": [],
      "source": [
        "# plot of a parabola\n",
        "f = x**2\n",
        "sp.plot(f);"
      ]
    },
    {
      "cell_type": "code",
      "execution_count": null,
      "metadata": {
        "id": "0BQLQWxjijs8"
      },
      "outputs": [],
      "source": [
        "sp.integrate(x**2, x)"
      ]
    }
  ],
  "metadata": {
    "kernelspec": {
      "display_name": "Python 3 (ipykernel)",
      "language": "python",
      "name": "python3",
      "path": "/media/dch/Disk2/Vizja/Math-2024-25-Winter/.venv/share/jupyter/kernels/python3"
    },
    "colab": {
      "provenance": [],
      "toc_visible": true
    }
  },
  "nbformat": 4,
  "nbformat_minor": 0
}